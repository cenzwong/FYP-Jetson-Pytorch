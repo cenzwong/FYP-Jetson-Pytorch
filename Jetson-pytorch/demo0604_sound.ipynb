{
 "cells": [
  {
   "cell_type": "code",
   "execution_count": 1,
   "metadata": {},
   "outputs": [
    {
     "name": "stdout",
     "output_type": "stream",
     "text": [
      "[sudo] password for dlinano: \n",
      "crw-rw----+ 1 root video 81, 0 Jun  3 21:38 /dev/video0\n",
      "camera created\n"
     ]
    }
   ],
   "source": [
    "# Full reset of the camera\n",
    "!echo 'dlinano' | sudo -S systemctl restart nvargus-daemon && printf '\\n'\n",
    "# Check device number\n",
    "!ls -ltrh /dev/video*\n",
    "\n",
    "# USB Camera (Logitech C270 webcam)\n",
    "from jetcam.usb_camera import USBCamera\n",
    "camera = USBCamera(width=224, height=224, capture_device=0) # confirm the capture_device number\n",
    "\n",
    "camera.running = True\n",
    "print(\"camera created\")"
   ]
  },
  {
   "cell_type": "markdown",
   "metadata": {},
   "source": [
    "### Task\n"
   ]
  },
  {
   "cell_type": "code",
   "execution_count": 2,
   "metadata": {},
   "outputs": [
    {
     "name": "stdout",
     "output_type": "stream",
     "text": [
      "thumbs task with ['none', 'thumb_up', 'thumb_down'] categories defined\n"
     ]
    }
   ],
   "source": [
    "import torchvision.transforms as transforms\n",
    "from dataset_class import ImageClassificationDataset\n",
    "\n",
    "TASK = 'thumbs'\n",
    "CATEGORIES = ['none', 'thumb_up', 'thumb_down']\n",
    "DATASETS = ['A', 'B']\n",
    "\n",
    "TRANSFORMS = transforms.Compose([\n",
    "    transforms.ColorJitter(0.2, 0.2, 0.2, 0.2),\n",
    "    transforms.Resize((224, 224)),\n",
    "    transforms.ToTensor(),\n",
    "    transforms.Normalize([0.485, 0.456, 0.406], [0.229, 0.224, 0.225])\n",
    "])\n",
    "\n",
    "datasets = {}\n",
    "for name in DATASETS:\n",
    "    datasets[name] = ImageClassificationDataset(TASK + '_' + name, CATEGORIES, TRANSFORMS)\n",
    "    \n",
    "print(\"{} task with {} categories defined\".format(TASK, CATEGORIES))"
   ]
  },
  {
   "cell_type": "markdown",
   "metadata": {},
   "source": [
    "### Data Collection\n"
   ]
  },
  {
   "cell_type": "code",
   "execution_count": 3,
   "metadata": {},
   "outputs": [
    {
     "name": "stdout",
     "output_type": "stream",
     "text": [
      "data_collection_widget created\n"
     ]
    }
   ],
   "source": [
    "import ipywidgets\n",
    "import traitlets\n",
    "from IPython.display import display\n",
    "from jetcam.utils import bgr8_to_jpeg\n",
    "\n",
    "# initialize active dataset\n",
    "dataset = datasets[DATASETS[0]]\n",
    "\n",
    "# unobserve all callbacks from camera in case we are running this cell for second time\n",
    "camera.unobserve_all()\n",
    "\n",
    "# create image preview\n",
    "camera_widget = ipywidgets.Image()\n",
    "traitlets.dlink((camera, 'value'), (camera_widget, 'value'), transform=bgr8_to_jpeg)\n",
    "\n",
    "# create widgets\n",
    "dataset_widget = ipywidgets.Dropdown(options=DATASETS, description='dataset')\n",
    "category_widget = ipywidgets.Dropdown(options=dataset.categories, description='category')\n",
    "\n",
    "# display(data_collection_widget)\n",
    "print(\"data_collection_widget created\")"
   ]
  },
  {
   "cell_type": "markdown",
   "metadata": {},
   "source": [
    "### Model\n"
   ]
  },
  {
   "cell_type": "code",
   "execution_count": 4,
   "metadata": {},
   "outputs": [
    {
     "name": "stdout",
     "output_type": "stream",
     "text": [
      "model configured and model_widget created\n"
     ]
    }
   ],
   "source": [
    "import torch\n",
    "import torchvision\n",
    "\n",
    "device = torch.device('cuda')\n",
    "\n",
    "# RESNET 18\n",
    "model = torchvision.models.resnet18(pretrained=True)\n",
    "model.fc = torch.nn.Linear(512, len(dataset.categories))\n",
    "\n",
    "    \n",
    "model = model.to(device)\n",
    "\n",
    "# display(model_widget)\n",
    "print(\"model configured and model_widget created\")"
   ]
  },
  {
   "cell_type": "markdown",
   "metadata": {},
   "source": [
    "### Live  Execution\n",
    "Execute the cell below to set up the live execution widget.  This cell should only take a few seconds to execute."
   ]
  },
  {
   "cell_type": "code",
   "execution_count": 5,
   "metadata": {},
   "outputs": [
    {
     "name": "stdout",
     "output_type": "stream",
     "text": [
      "live_execution_widget created\n"
     ]
    }
   ],
   "source": [
    "import threading\n",
    "import time\n",
    "from utils import preprocess\n",
    "import torch.nn.functional as F\n",
    "\n",
    "state_widget = ipywidgets.ToggleButtons(options=['stop', 'live'], description='state', value='stop')\n",
    "prediction_widget = ipywidgets.Text(description='prediction')\n",
    "score_widgets = []\n",
    "for category in dataset.categories:\n",
    "    score_widget = ipywidgets.FloatSlider(min=0.0, max=1.0, description=category, orientation='vertical')\n",
    "    score_widgets.append(score_widget)\n",
    "\n",
    "def live(state_widget, model, camera, prediction_widget, score_widget):\n",
    "    global dataset\n",
    "    while state_widget.value == 'live':\n",
    "        image = camera.value\n",
    "        preprocessed = preprocess(image)\n",
    "        output = model(preprocessed)\n",
    "        output = F.softmax(output, dim=1).detach().cpu().numpy().flatten()\n",
    "        category_index = output.argmax()\n",
    "        prediction_widget.value = dataset.categories[category_index]\n",
    "        response()\n",
    "        for i, score in enumerate(list(output)):\n",
    "            score_widgets[i].value = score\n",
    "\n",
    "#############This is the response, append the response of the AI #############################\n",
    "from IPython.display import Audio\n",
    "\n",
    "thumb_down_sound_file = './thumb_down.mp3'\n",
    "thumb_up_sound_file = './thumb_up.mp3'   \n",
    "previous_prediction_value = \"\"\n",
    "\n",
    "def response():\n",
    "    global previous_prediction_value\n",
    "    if prediction_widget.value == \"thumb_up\" and (previous_prediction_value != prediction_widget.value):\n",
    "        display(Audio(thumb_up_sound_file, autoplay=True))\n",
    "        \n",
    "    elif prediction_widget.value == \"thumb_down\" and (previous_prediction_value != prediction_widget.value):\n",
    "#         print(prediction_widget.value)\n",
    "        display(Audio(thumb_down_sound_file, autoplay=True))\n",
    "    previous_prediction_value = prediction_widget.value\n",
    "\n",
    "# response()\n",
    "##################################################            \n",
    "def start_live(change):\n",
    "    if change['new'] == 'live':\n",
    "        execute_thread = threading.Thread(target=live, args=(state_widget, model, camera, prediction_widget, score_widget))\n",
    "        execute_thread.start()\n",
    "\n",
    "state_widget.observe(start_live, names='value')\n",
    "\n",
    "# display(live_execution_widget)\n",
    "print(\"live_execution_widget created\")"
   ]
  },
  {
   "cell_type": "markdown",
   "metadata": {},
   "source": [
    "### Training and Evaluation\n",
    "Execute the following cell to define the trainer, and the widget to control it. This cell may take several seconds to execute."
   ]
  },
  {
   "cell_type": "code",
   "execution_count": 6,
   "metadata": {},
   "outputs": [
    {
     "name": "stdout",
     "output_type": "stream",
     "text": [
      "trainer configured and train_eval_widget created\n"
     ]
    }
   ],
   "source": [
    "BATCH_SIZE = 8\n",
    "\n",
    "optimizer = torch.optim.Adam(model.parameters())\n",
    "# optimizer = torch.optim.SGD(model.parameters(), lr=1e-3, momentum=0.9)\n",
    "\n",
    "epochs_widget = ipywidgets.IntText(description='epochs', value=1)\n",
    "eval_button = ipywidgets.Button(description='evaluate')\n",
    "train_button = ipywidgets.Button(description='train')\n",
    "loss_widget = ipywidgets.FloatText(description='loss')\n",
    "accuracy_widget = ipywidgets.FloatText(description='accuracy')\n",
    "progress_widget = ipywidgets.FloatProgress(min=0.0, max=1.0, description='progress')\n",
    "\n",
    "def train_eval(is_training):\n",
    "    global BATCH_SIZE, LEARNING_RATE, MOMENTUM, model, dataset, optimizer, eval_button, train_button, accuracy_widget, loss_widget, progress_widget, state_widget\n",
    "    \n",
    "    try:\n",
    "        train_loader = torch.utils.data.DataLoader(\n",
    "            dataset,\n",
    "            batch_size=BATCH_SIZE,\n",
    "            shuffle=True\n",
    "        )\n",
    "\n",
    "        state_widget.value = 'stop'\n",
    "        train_button.disabled = True\n",
    "        eval_button.disabled = True\n",
    "        time.sleep(1)\n",
    "\n",
    "        if is_training:\n",
    "            model = model.train()\n",
    "        else:\n",
    "            model = model.eval()\n",
    "        while epochs_widget.value > 0:\n",
    "            i = 0\n",
    "            sum_loss = 0.0\n",
    "            error_count = 0.0\n",
    "            for images, labels in iter(train_loader):\n",
    "                # send data to device\n",
    "                images = images.to(device)\n",
    "                labels = labels.to(device)\n",
    "\n",
    "                if is_training:\n",
    "                    # zero gradients of parameters\n",
    "                    optimizer.zero_grad()\n",
    "\n",
    "                # execute model to get outputs\n",
    "                outputs = model(images)\n",
    "\n",
    "                # compute loss\n",
    "                loss = F.cross_entropy(outputs, labels)\n",
    "\n",
    "                if is_training:\n",
    "                    # run backpropogation to accumulate gradients\n",
    "                    loss.backward()\n",
    "\n",
    "                    # step optimizer to adjust parameters\n",
    "                    optimizer.step()\n",
    "\n",
    "                # increment progress\n",
    "                error_count += len(torch.nonzero(outputs.argmax(1) - labels).flatten())\n",
    "                count = len(labels.flatten())\n",
    "                i += count\n",
    "                sum_loss += float(loss)\n",
    "                progress_widget.value = i / len(dataset)\n",
    "                loss_widget.value = sum_loss / i\n",
    "                accuracy_widget.value = 1.0 - error_count / i\n",
    "                \n",
    "            if is_training:\n",
    "                epochs_widget.value = epochs_widget.value - 1\n",
    "            else:\n",
    "                break\n",
    "    except e:\n",
    "        pass\n",
    "    model = model.eval()\n",
    "\n",
    "    train_button.disabled = False\n",
    "    eval_button.disabled = False\n",
    "    state_widget.value = 'live'\n",
    "    \n",
    "train_button.on_click(lambda c: train_eval(is_training=True))\n",
    "eval_button.on_click(lambda c: train_eval(is_training=False))\n",
    "    \n",
    "train_eval_widget = ipywidgets.VBox([\n",
    "    epochs_widget,\n",
    "    progress_widget,\n",
    "    loss_widget,\n",
    "    accuracy_widget,\n",
    "    ipywidgets.HBox([train_button, eval_button])\n",
    "])\n",
    "\n",
    "# display(train_eval_widget)\n",
    "print(\"trainer configured and train_eval_widget created\")"
   ]
  },
  {
   "cell_type": "markdown",
   "metadata": {},
   "source": [
    "### Display the Interactive Tool!"
   ]
  },
  {
   "cell_type": "code",
   "execution_count": 7,
   "metadata": {},
   "outputs": [
    {
     "data": {
      "application/vnd.jupyter.widget-view+json": {
       "model_id": "b9004a458ff541b690088edd708ea50b",
       "version_major": 2,
       "version_minor": 0
      },
      "text/plain": [
       "Image(value=b'\\xff\\xd8\\xff\\xe0\\x00\\x10JFIF\\x00\\x01\\x01\\x00\\x00\\x01\\x00\\x01\\x00\\x00\\xff\\xdb\\x00C\\x00\\x02\\x01\\x0…"
      ]
     },
     "metadata": {},
     "output_type": "display_data"
    },
    {
     "data": {
      "application/vnd.jupyter.widget-view+json": {
       "model_id": "ae76315d068847498c94fb5824e5cbeb",
       "version_major": 2,
       "version_minor": 0
      },
      "text/plain": [
       "VBox(children=(HBox(children=(FloatSlider(value=0.0, description='none', max=1.0, orientation='vertical'), Flo…"
      ]
     },
     "metadata": {},
     "output_type": "display_data"
    },
    {
     "data": {
      "text/html": [
       "\n",
       "                <audio  controls=\"controls\" autoplay=\"autoplay\">\n",
       "                    <source src=\"data:audio/mpeg;base64,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\" type=\"audio/mpeg\" />\n",
       "                    Your browser does not support the audio element.\n",
       "                </audio>\n",
       "              "
      ],
      "text/plain": [
       "<IPython.lib.display.Audio object>"
      ]
     },
     "metadata": {},
     "output_type": "display_data"
    },
    {
     "data": {
      "text/html": [
       "\n",
       "                <audio  controls=\"controls\" autoplay=\"autoplay\">\n",
       "                    <source src=\"data:audio/mpeg;base64,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\" type=\"audio/mpeg\" />\n",
       "                    Your browser does not support the audio element.\n",
       "                </audio>\n",
       "              "
      ],
      "text/plain": [
       "<IPython.lib.display.Audio object>"
      ]
     },
     "metadata": {},
     "output_type": "display_data"
    },
    {
     "data": {
      "text/html": [
       "\n",
       "                <audio  controls=\"controls\" autoplay=\"autoplay\">\n",
       "                    <source src=\"data:audio/mpeg;base64,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\" type=\"audio/mpeg\" />\n",
       "                    Your browser does not support the audio element.\n",
       "                </audio>\n",
       "              "
      ],
      "text/plain": [
       "<IPython.lib.display.Audio object>"
      ]
     },
     "metadata": {},
     "output_type": "display_data"
    },
    {
     "data": {
      "text/html": [
       "\n",
       "                <audio  controls=\"controls\" autoplay=\"autoplay\">\n",
       "                    <source src=\"data:audio/mpeg;base64,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\" type=\"audio/mpeg\" />\n",
       "                    Your browser does not support the audio element.\n",
       "                </audio>\n",
       "              "
      ],
      "text/plain": [
       "<IPython.lib.display.Audio object>"
      ]
     },
     "metadata": {},
     "output_type": "display_data"
    },
    {
     "data": {
      "text/html": [
       "\n",
       "                <audio  controls=\"controls\" autoplay=\"autoplay\">\n",
       "                    <source src=\"data:audio/mpeg;base64,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\" type=\"audio/mpeg\" />\n",
       "                    Your browser does not support the audio element.\n",
       "                </audio>\n",
       "              "
      ],
      "text/plain": [
       "<IPython.lib.display.Audio object>"
      ]
     },
     "metadata": {},
     "output_type": "display_data"
    },
    {
     "data": {
      "text/html": [
       "\n",
       "                <audio  controls=\"controls\" autoplay=\"autoplay\">\n",
       "                    <source src=\"data:audio/mpeg;base64,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\" type=\"audio/mpeg\" />\n",
       "                    Your browser does not support the audio element.\n",
       "                </audio>\n",
       "              "
      ],
      "text/plain": [
       "<IPython.lib.display.Audio object>"
      ]
     },
     "metadata": {},
     "output_type": "display_data"
    }
   ],
   "source": [
    "# # Combine all the widgets into one display\n",
    "# all_widget = ipywidgets.VBox([\n",
    "#     ipywidgets.HBox([data_collection_widget, live_execution_widget]), \n",
    "#     train_eval_widget,\n",
    "#     model_widget\n",
    "# ])\n",
    "\n",
    "# display(all_widget)\n",
    "\n",
    "# ## Run the model\n",
    "mode_state_dict = torch.load(\"./thumb_up_down.pth\")\n",
    "model.load_state_dict(mode_state_dict)\n",
    "model.eval()\n",
    "# model = model.to(torch.device('cuda'))\n",
    "state_widget.value = 'live'\n",
    "\n",
    "live_execution_widget = ipywidgets.VBox([\n",
    "    ipywidgets.HBox(score_widgets),\n",
    "    prediction_widget,\n",
    "])\n",
    "\n",
    "\n",
    "display(camera_widget)\n",
    "display(live_execution_widget)"
   ]
  }
 ],
 "metadata": {
  "kernelspec": {
   "display_name": "Python 3",
   "language": "python",
   "name": "python3"
  },
  "language_info": {
   "codemirror_mode": {
    "name": "ipython",
    "version": 3
   },
   "file_extension": ".py",
   "mimetype": "text/x-python",
   "name": "python",
   "nbconvert_exporter": "python",
   "pygments_lexer": "ipython3",
   "version": "3.6.9"
  }
 },
 "nbformat": 4,
 "nbformat_minor": 2
}
